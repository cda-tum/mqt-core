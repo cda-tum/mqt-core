{
 "cells": [
  {
   "cell_type": "markdown",
   "id": "5ea7d911",
   "metadata": {},
   "source": [
    "# Benchmarking the DD Package\n",
    "\n",
    "MQT Core provides a benchmark suite to evaluate the performance of the DD package. If you are working on the DD package and want to know how your changes affect its performance, this workflow is especially helpful."
   ]
  },
  {
   "cell_type": "markdown",
   "id": "160ac9738684715a",
   "metadata": {},
   "source": [
    "## First Step\n",
    "Run the target `mqt-core-dd-eval` in the environment (in a certain branch or at a certain commit) you wish. Make sure to pass a program argument when running the target to specify the filename."
   ]
  },
  {
   "cell_type": "markdown",
   "id": "e148f1c8",
   "metadata": {},
   "source": [
    "## Results JSON\n",
    "After you run the target, you will see a `results_<your_argument>.json` file which contains all the benchmarking results in JSON data generated from running the algorithms across different numbers of qubits in the DD Package. It contains all the data collected during the benchmarking process. Normally, a `results_<your_argument>.json` file should resemble the following image."
   ]
  },
  {
   "cell_type": "code",
   "execution_count": null,
   "id": "cee5d656",
   "metadata": {},
   "outputs": [],
   "source": [
    "import json\n",
    "from pathlib import Path\n",
    "\n",
    "filepath = Path(\"../test/python/results_baseline.json\")\n",
    "\n",
    "with filepath.open(mode=\"r\", encoding=\"utf-8\") as f:\n",
    "    data = json.load(f)\n",
    "    json_formatted_str = json.dumps(data, indent=2)\n",
    "    print(json_formatted_str)"
   ]
  },
  {
   "cell_type": "markdown",
   "id": "ebc51fb0",
   "metadata": {},
   "source": [
    "Now repeat this process in the other environment(s) you wish. Make sure to pass different arguments as different file names while running the target. We will use these generated json files to visualize the benchmarking results."
   ]
  },
  {
   "cell_type": "markdown",
   "id": "ddecc397",
   "metadata": {},
   "source": [
    "## Running the Visualization\n",
    "In the Python module `mqt.core.evaluation`, simply calling the function `compare` while passing the file names of the jsons will give us detailed and clear comparisons. Note that the first argument should be the filepath of the baseline json and the second argument should be the filepath of the json results from your changes."
   ]
  },
  {
   "cell_type": "code",
   "execution_count": null,
   "id": "75e5883e",
   "metadata": {},
   "outputs": [],
   "source": [
    "from mqt.core.evaluation import compare\n",
    "\n",
    "baseline_path = \"../test/python/results_baseline.json\"\n",
    "feature_path = \"../test/python/results_feature.json\"\n",
    "compare(baseline_path, feature_path)"
   ]
  },
  {
   "cell_type": "markdown",
   "id": "c0bc0b58",
   "metadata": {},
   "source": [
    "Note that several parameters are implemented to customize the comparison. See [here](./api/mqt/core/evaluation/index.html#compare).\n",
    "Some exemplary runs adjusting the parameters are shown below."
   ]
  },
  {
   "cell_type": "code",
   "execution_count": null,
   "id": "8e3e3ad7",
   "metadata": {},
   "outputs": [],
   "source": [
    "compare(baseline_path, feature_path, factor=0.3, only_changed=True)"
   ]
  },
  {
   "cell_type": "code",
   "execution_count": null,
   "id": "7a5c2e9c",
   "metadata": {},
   "outputs": [],
   "source": [
    "compare(baseline_path, feature_path, no_split=True)"
   ]
  },
  {
   "cell_type": "code",
   "execution_count": null,
   "id": "906d8b1a",
   "metadata": {},
   "outputs": [],
   "source": [
    "compare(baseline_path, feature_path, sort=\"algorithm\")"
   ]
  },
  {
   "cell_type": "markdown",
   "id": "6032d920",
   "metadata": {},
   "source": [
    "## Running the Evaluation on CLI\n",
    "As long as you have `mqt.core[evaluation]` installed, you can also run the evaluation on CLI. For example:"
   ]
  },
  {
   "cell_type": "code",
   "execution_count": null,
   "id": "ef4b59bb",
   "metadata": {},
   "outputs": [],
   "source": [
    "! compare ../test/python/results_baseline.json ../test/python/results_feature.json --factor=0.2 --only-changed=true"
   ]
  }
 ],
 "metadata": {
  "kernelspec": {
   "display_name": "Python 3 (ipykernel)",
   "language": "python",
   "name": "python3"
  },
  "language_info": {
   "codemirror_mode": {
    "name": "ipython",
    "version": 3
   },
   "file_extension": ".py",
   "mimetype": "text/x-python",
   "name": "python",
   "nbconvert_exporter": "python",
   "pygments_lexer": "ipython3"
  }
 },
 "nbformat": 4,
 "nbformat_minor": 5
}
