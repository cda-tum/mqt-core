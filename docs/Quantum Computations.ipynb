{
 "cells": [
  {
   "cell_type": "markdown",
   "id": "5ea7d911",
   "metadata": {},
   "source": [
    "# Quantum Circuits in the Munich Quantum Toolkit\n",
    "\n",
    "The central interface for working with quantum circuits in MQT is the `QuantumComputation` class. It represents quantum circuits as a sequential list of operations. Operations can be directly applied to the `QuantumComputation`: "
   ]
  },
  {
   "cell_type": "code",
   "execution_count": null,
   "id": "772e6b8d",
   "metadata": {},
   "outputs": [],
   "source": [
    "from mqt.core import QuantumComputation, Control, ControlType\n",
    "\n",
    "# Build a `QuantumComputation` representing a Bell-state preparation circuit.\n",
    "nqubits = 2\n",
    "qc = QuantumComputation(nqubits)\n",
    "\n",
    "qc.h(0)  # Apply Hadamard gate on qubit 0\n",
    "qc.x(1, Control(0))  # Apply a CNOT (controlled X-Gate) with control on qubit 0 and target on qubit 1\n",
    "\n",
    "# Get Circuit in OpenQASM 2.0 format\n",
    "print(qc.qasm_str())"
   ]
  },
  {
   "cell_type": "markdown",
   "id": "454949a7",
   "metadata": {},
   "source": [
    "It might seem odd at first that the control qubit has to be explicitely constructed as a `Control` object. But this syntax actually provides a lot of flexibility as every unitary gate can be declared as a controlled gate:"
   ]
  },
  {
   "cell_type": "code",
   "execution_count": null,
   "id": "a651a697",
   "metadata": {},
   "outputs": [],
   "source": [
    "nqubits = 2\n",
    "qc = QuantumComputation(nqubits)\n",
    "\n",
    "# Controlled Hadamard Gate\n",
    "qc.h(1, Control(0))\n",
    "\n",
    "# Negatively controlled S-gate: S-Gate on target is performed if control is in |0> state.\n",
    "qc.s(1, Control(0, ControlType.Neg))\n",
    "\n",
    "print(qc.qasm_str())"
   ]
  },
  {
   "cell_type": "markdown",
   "id": "e8d1dd4b",
   "metadata": {},
   "source": [
    "Providing a set of `Control` objects allows declaring any gate as a multi-controlled gate:"
   ]
  },
  {
   "cell_type": "code",
   "execution_count": null,
   "id": "93baf380",
   "metadata": {},
   "outputs": [],
   "source": [
    "nqubits = 3\n",
    "qc = QuantumComputation(nqubits)\n",
    "\n",
    "# Toffoli gate in mqt-core:\n",
    "qc.x(2, {Control(0), Control(1)})\n",
    "\n",
    "# Control type can be individually declared\n",
    "qc.s(0, {Control(1, ControlType.Neg), Control(2, ControlType.Pos)})\n",
    "\n",
    "print(qc.qasm_str())"
   ]
  },
  {
   "cell_type": "markdown",
   "id": "c33b5bda",
   "metadata": {},
   "source": [
    "## Layout Information\n",
    "\n",
    "A `QuantumComputation` also contains information about the mapping of logical (or algorithmic) qubits to and from physical (or device) qubits. These are contained in the `initial_layout` and `output_permutation` members which are instances of the `Permutation` class. If no layout is given the trivial layout is assumed. \n",
    "\n",
    "When printing the OpenQASM 2.0 representation of the `QuantumComputation` the input and output permutations are given as comments in the first two lines of the QASM string. The format is:\n",
    "\n",
    "`// i q_0, q_1, ..., q_n` ... logical qubit $q_i$ is mapped to physical qubit $i$.\n",
    "\n",
    "`// o c_0, c_1, ..., c_n` ... classical bit $c_i$ stores measurement result of qubit $i$.\n"
   ]
  },
  {
   "cell_type": "code",
   "execution_count": null,
   "id": "30fc4f64",
   "metadata": {},
   "outputs": [],
   "source": [
    "from mqt.core import Permutation\n",
    "\n",
    "nqubits = 3\n",
    "qc = QuantumComputation(3)\n",
    "qc.initial_layout[0] = 2\n",
    "qc.initial_layout[1] = 1\n",
    "qc.initial_layout[2] = 0\n",
    "\n",
    "qc.output_permutation[2] = 0\n",
    "qc.output_permutation[1] = 2\n",
    "qc.output_permutation[0] = 1\n",
    "\n",
    "\n",
    "print(qc.qasm_str())"
   ]
  },
  {
   "cell_type": "markdown",
   "id": "4b2275b6",
   "metadata": {},
   "source": [
    "The layout information can also be automatically determined from measurements."
   ]
  },
  {
   "cell_type": "code",
   "execution_count": null,
   "id": "49caa5c2",
   "metadata": {},
   "outputs": [],
   "source": [
    "nqubits = 3\n",
    "qc = QuantumComputation(nqubits)\n",
    "\n",
    "qc.h(0)\n",
    "qc.x(1)\n",
    "qc.s(2)\n",
    "qc.measure(0, 2)  # measure qubit 0 and store result in classical bit 2\n",
    "qc.measure(1, 0)  # measure qubit 1 and store result in classical bit 0\n",
    "qc.measure(2, 1)  # measure qubit 2 and store result in classical bit 1\n",
    "qc.initialize_io_mapping()  # determine permutation from measurement\n",
    "\n",
    "print(qc.qasm_str())"
   ]
  },
  {
   "cell_type": "markdown",
   "id": "fac1db4c",
   "metadata": {},
   "source": [
    "## Operations\n",
    "\n",
    "The operations in a `QuantumComputation` object are of type `Operation`. Every type of operation in `mqt-core` is derived from this class. Operations can also be explicitely constructed. Each `Operation` has a type in the form of an `OpType`.\n",
    "\n",
    "### `StandardOperation`\n",
    "A `StandardOperation` is used to represent basic unitary gates. These can also be declared with arbitrary targets and controls."
   ]
  },
  {
   "cell_type": "code",
   "execution_count": null,
   "id": "2a0a1801",
   "metadata": {},
   "outputs": [],
   "source": [
    "from mqt.core import StandardOperation, OpType\n",
    "from math import pi\n",
    "\n",
    "nqubits = 4\n",
    "\n",
    "# u3 gate on qubit 0 in a 3-qubit circuit\n",
    "u3_gate = StandardOperation(nqubits, target=0, params=[pi / 2, pi, -pi / 2], op_type=OpType.u3)\n",
    "\n",
    "# controlled x-rotation\n",
    "cxr = StandardOperation(nqubits, target=1, control=Control(0), params=[pi], op_type=OpType.rx)\n",
    "\n",
    "# multi-target multi-controlled x-gate\n",
    "mcx = StandardOperation(nqubits, targets=[0, 1], controls={Control(2), Control(3)}, op_type=OpType.x)\n",
    "\n",
    "# add operations to a quantum computation\n",
    "qc = QuantumComputation(nqubits)\n",
    "qc.append_operation(u3_gate)\n",
    "qc.append_operation(cxr)\n",
    "qc.append_operation(mcx)"
   ]
  },
  {
   "cell_type": "markdown",
   "id": "333b38e5",
   "metadata": {},
   "source": [
    "### `NonUnitaryOperation`\n",
    "\n",
    "A `NonUnitaryOperation` is used to represent operations involving measurements, resets or barriers."
   ]
  },
  {
   "cell_type": "code",
   "execution_count": null,
   "id": "0c6ed952",
   "metadata": {},
   "outputs": [],
   "source": [
    "from mqt.core import NonUnitaryOperation\n",
    "\n",
    "nqubits = 2\n",
    "\n",
    "qc.h(0)\n",
    "\n",
    "# measure qubit 0 on classical bit 0\n",
    "meas_0 = NonUnitaryOperation(nqubits, target=0, classic=0)\n",
    "\n",
    "# reset all qubits\n",
    "barrier = NonUnitaryOperation(nqubits, targets=[0, 1], op_type=OpType.reset)\n",
    "\n",
    "qc.append_operation(meas_0)\n",
    "qc.append_operation(barrier)"
   ]
  },
  {
   "cell_type": "markdown",
   "id": "a0dcc04d",
   "metadata": {},
   "source": [
    "### `SymbolicOperation`\n",
    "\n",
    "A `SymbolicOperation` can represent all gates of a `StandardOperation` but the gate parameters can be symbolic. Symbolic expressions are represented in MQT using the `Expression` type, which represent linear combinations of symbolic `Term` objects over some set of `Variable` objects."
   ]
  },
  {
   "cell_type": "code",
   "execution_count": null,
   "id": "bc2c5ec4",
   "metadata": {},
   "outputs": [],
   "source": [
    "from mqt.core import SymbolicOperation, Expression, Term, Variable\n",
    "\n",
    "nqubits = 1\n",
    "\n",
    "x = Variable(\"x\")\n",
    "y = Variable(\"y\")\n",
    "sym = Expression([Term(2, x), Term(3, y)])\n",
    "print(sym)\n",
    "\n",
    "sym += 1\n",
    "print(sym)\n",
    "\n",
    "# Create symbolic gate\n",
    "u1_symb = SymbolicOperation(nqubits, target=0, params=[sym], op_type=OpType.phase)\n",
    "\n",
    "# Mixed symbolic and instantiated parameters\n",
    "u2_symb = SymbolicOperation(nqubits, target=0, params=[sym, 2.0], op_type=OpType.u2)"
   ]
  },
  {
   "cell_type": "markdown",
   "id": "a2dfbf18",
   "metadata": {},
   "source": [
    "### `CompoundOperation`\n",
    "\n",
    "A `CompoundOperation` bundles multiple `Operation` objects together. "
   ]
  },
  {
   "cell_type": "code",
   "execution_count": null,
   "id": "96dd7d49",
   "metadata": {},
   "outputs": [],
   "source": [
    "from mqt.core import CompoundOperation\n",
    "\n",
    "nqubits = 2\n",
    "comp_op = CompoundOperation(nqubits)\n",
    "\n",
    "# create bell pair circuit\n",
    "comp_op.append_operation(StandardOperation(nqubits, 0, op_type=OpType.h))\n",
    "comp_op.append_operation(StandardOperation(nqubits, target=0, control=Control(1), op_type=OpType.x))\n",
    "\n",
    "qc = QuantumComputation(nqubits)\n",
    "qc.append_operation(comp_op)\n",
    "\n",
    "print(qc.qasm_str())"
   ]
  },
  {
   "cell_type": "markdown",
   "id": "dbdbb3ac",
   "metadata": {},
   "source": [
    "## Interfacing with other SDKs\n",
    "\n",
    "Since a `QuantumComputation` can be imported from and exported to a OpenQASM 2.0 string, any library that can work with OpenQASM 2.0 is easy to use in conjunction with the `QuantumComputation` class. \n",
    "\n",
    "Currently, `mqt-core` can import [Qiskit](https://qiskit.org/) [`QuantumCircuit`](https://qiskit.org/documentation/stubs/qiskit.circuit.QuantumCircuit.html) objects directly. This should be faster than exporting and importing QASM strings."
   ]
  },
  {
   "cell_type": "code",
   "execution_count": null,
   "id": "c733187f",
   "metadata": {},
   "outputs": [],
   "source": [
    "from qiskit import QuantumCircuit\n",
    "from mqt.core.qiskit import qiskit_to_mqt\n",
    "\n",
    "# GHZ circuit in qiskit\n",
    "qiskit_qc = QuantumCircuit(3)\n",
    "qiskit_qc.h(0)\n",
    "qiskit_qc.cx(0, 1)\n",
    "qiskit_qc.cx(0, 2)\n",
    "\n",
    "print(qiskit_qc.draw())\n",
    "\n",
    "mqt_qc = qiskit_to_mqt(qiskit_qc)\n",
    "print(mqt_qc.qasm_str())"
   ]
  },
  {
   "cell_type": "code",
   "execution_count": null,
   "id": "29793c6a",
   "metadata": {},
   "outputs": [],
   "source": []
  }
 ],
 "metadata": {
  "kernelspec": {
   "display_name": "Python 3 (ipykernel)",
   "language": "python",
   "name": "python3"
  },
  "language_info": {
   "codemirror_mode": {
    "name": "ipython",
    "version": 3
   },
   "file_extension": ".py",
   "mimetype": "text/x-python",
   "name": "python",
   "nbconvert_exporter": "python",
   "pygments_lexer": "ipython3"
  }
 },
 "nbformat": 4,
 "nbformat_minor": 5
}
