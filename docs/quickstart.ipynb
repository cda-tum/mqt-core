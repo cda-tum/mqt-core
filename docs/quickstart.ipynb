{
 "cells": [
  {
   "cell_type": "markdown",
   "id": "5ea7d911",
   "metadata": {},
   "source": [
    "# Quickstart\n",
    "\n",
    "The central interface for working with quantum circuits in MQT is the `QuantumComputation` class. It represents quantum circuits as a sequential list of operations. Operations can be directly applied to the `QuantumComputation`: "
   ]
  },
  {
   "cell_type": "code",
   "execution_count": null,
   "id": "4ba5691cb9fcb4fc",
   "metadata": {},
   "outputs": [],
   "source": [
    "from mqt.core import QuantumComputation\n",
    "\n",
    "# Build a `QuantumComputation` representing a Bell-state preparation circuit.\n",
    "nqubits = 2\n",
    "qc = QuantumComputation(nqubits)\n",
    "\n",
    "qc.h(0)  # Apply Hadamard gate on qubit 0\n",
    "qc.cx(0, 1)  # Apply a CNOT (controlled X-Gate) with control on qubit 0 and target on qubit 1\n",
    "\n",
    "# Get Circuit in OpenQASM 3.0 format\n",
    "print(qc.qasm3_str())"
   ]
  },
  {
   "cell_type": "markdown",
   "id": "160ac9738684715a",
   "metadata": {},
   "source": [
    "The circuit class provides a lot of flexibility as every unitary gate can be declared as a controlled gate:"
   ]
  },
  {
   "cell_type": "code",
   "execution_count": null,
   "id": "79481b89c1434989",
   "metadata": {},
   "outputs": [],
   "source": [
    "from mqt.core.operations import Control\n",
    "\n",
    "nqubits = 2\n",
    "qc = QuantumComputation(nqubits)\n",
    "\n",
    "# Controlled Hadamard Gate\n",
    "qc.ch(0, 1)\n",
    "\n",
    "# Negatively controlled S-gate: S-Gate on target is performed if control is in |0> state.\n",
    "qc.cs(Control(0, Control.Type.Neg), 1)\n",
    "\n",
    "print(qc.qasm3_str())"
   ]
  },
  {
   "cell_type": "markdown",
   "id": "4b4d82c1ab0078ed",
   "metadata": {},
   "source": [
    "Providing a set of `Control` objects allows declaring any gate as a multi-controlled gate:"
   ]
  },
  {
   "cell_type": "code",
   "execution_count": null,
   "id": "1255dc71948d183",
   "metadata": {},
   "outputs": [],
   "source": [
    "nqubits = 3\n",
    "qc = QuantumComputation(nqubits)\n",
    "\n",
    "# Toffoli gate in mqt-core:\n",
    "qc.mcx({0, 1}, 2)\n",
    "\n",
    "# Control type can be individually declared\n",
    "qc.mcs({Control(0, Control.Type.Neg), Control(1, Control.Type.Pos)}, 2)\n",
    "\n",
    "print(qc.qasm3_str())"
   ]
  },
  {
   "cell_type": "markdown",
   "id": "e4e2645248907cfb",
   "metadata": {},
   "source": [
    "## Layout Information\n",
    "\n",
    "A `QuantumComputation` also contains information about the mapping of algorithmic (or logical/virtual/circuit) qubits to and from device (or physical) qubits. \n",
    "These are contained in the `initial_layout` and `output_permutation` members which are instances of the `Permutation` class. If no layout is given the trivial layout is assumed. \n",
    "\n",
    "When printing the OpenQASM representation of the `QuantumComputation` the input and output permutations are given as comments in the first two lines of the QASM string. The format is:\n",
    "\n",
    "`// i Q_0, Q_1, ..., Q_n` ... algorithmic qubit $i$ is mapped to device qubit $Q_i$.\n",
    "\n",
    "`// o Q_0, Q_1, ..., Q_n` ... the value of algorithmic qubit $i$ (assumed to be stored in classical bit $c[i]$) is measured at device qubit $Q_i$.\n"
   ]
  },
  {
   "cell_type": "code",
   "execution_count": null,
   "id": "6269a4fe539cad4e",
   "metadata": {},
   "outputs": [],
   "source": [
    "nqubits = 3\n",
    "qc = QuantumComputation(nqubits)\n",
    "qc.initial_layout[2] = 0\n",
    "qc.initial_layout[0] = 1\n",
    "qc.initial_layout[1] = 2\n",
    "\n",
    "qc.output_permutation[2] = 0\n",
    "qc.output_permutation[0] = 1\n",
    "qc.output_permutation[1] = 2\n",
    "\n",
    "\n",
    "print(qc.qasm3_str())"
   ]
  },
  {
   "cell_type": "markdown",
   "id": "c17babae09ce3f0",
   "metadata": {},
   "source": [
    "The layout information can also be automatically determined from measurements."
   ]
  },
  {
   "cell_type": "code",
   "execution_count": null,
   "id": "27709710f55389f",
   "metadata": {},
   "outputs": [],
   "source": [
    "nqubits = 3\n",
    "qc = QuantumComputation(nqubits, nqubits)  # 3 qubits, 3 classical bits\n",
    "\n",
    "qc.h(0)\n",
    "qc.x(1)\n",
    "qc.s(2)\n",
    "qc.measure(1, 0)  # c[0] is measured at qubit 1\n",
    "qc.measure(2, 1)  # c[1] is measured at qubit 2\n",
    "qc.measure(0, 2)  # c[2] is measured at qubit 0\n",
    "qc.initialize_io_mapping()  # determine permutation from measurement\n",
    "\n",
    "print(qc.qasm3_str())"
   ]
  },
  {
   "cell_type": "markdown",
   "id": "29841fbe09d69c2d",
   "metadata": {},
   "source": [
    "## Visualizing Circuits\n",
    "\n",
    "Circuits can be printed in a human-readable format:"
   ]
  },
  {
   "cell_type": "code",
   "execution_count": null,
   "id": "fedf094462ee5e37",
   "metadata": {},
   "outputs": [],
   "source": [
    "from mqt.core import QuantumComputation\n",
    "\n",
    "nqubits = 2\n",
    "qc = QuantumComputation(nqubits, 1)\n",
    "\n",
    "qc.h(0)\n",
    "qc.cx(0, 1)\n",
    "qc.measure(1, 0)\n",
    "\n",
    "print(qc)"
   ]
  },
  {
   "cell_type": "markdown",
   "id": "7bce521b4ccb6a0e",
   "metadata": {},
   "source": [
    "## Operations\n",
    "\n",
    "The operations in a `QuantumComputation` object are of type `Operation`. Every type of operation in `mqt-core` is derived from this class. Operations can also be explicitly constructed. Each `Operation` has a type in the form of an `OpType`.\n",
    "\n",
    "### `StandardOperation`\n",
    "A `StandardOperation` is used to represent basic unitary gates. These can also be declared with arbitrary targets and controls."
   ]
  },
  {
   "cell_type": "code",
   "execution_count": null,
   "id": "20da83d708ddf360",
   "metadata": {},
   "outputs": [],
   "source": [
    "from math import pi\n",
    "\n",
    "from mqt.core.operations import OpType, StandardOperation\n",
    "\n",
    "nqubits = 3\n",
    "\n",
    "# u3 gate on qubit 0 in a 3-qubit circuit\n",
    "u_gate = StandardOperation(target=0, params=[pi / 4, pi, -pi / 2], op_type=OpType.u)\n",
    "\n",
    "# controlled x-rotation\n",
    "crx = StandardOperation(control=Control(0), target=1, params=[pi], op_type=OpType.rx)\n",
    "\n",
    "# multi-controlled x-gate\n",
    "mcx = StandardOperation(controls={Control(0), Control(1)}, target=2, op_type=OpType.x)\n",
    "\n",
    "# add operations to a quantum computation\n",
    "qc = QuantumComputation(nqubits)\n",
    "qc.append(u_gate)\n",
    "qc.append(crx)\n",
    "qc.append(mcx)\n",
    "\n",
    "print(qc)"
   ]
  },
  {
   "cell_type": "markdown",
   "id": "a0c9d2b81e5800b0",
   "metadata": {},
   "source": [
    "### `NonUnitaryOperation`\n",
    "\n",
    "A `NonUnitaryOperation` is used to represent operations involving measurements or resets."
   ]
  },
  {
   "cell_type": "code",
   "execution_count": null,
   "id": "5c1a151e48e3b917",
   "metadata": {},
   "outputs": [],
   "source": [
    "from mqt.core.operations import NonUnitaryOperation\n",
    "\n",
    "nqubits = 2\n",
    "qc = QuantumComputation(nqubits, nqubits)\n",
    "qc.h(0)\n",
    "\n",
    "# measure qubit 0 on classical bit 0\n",
    "meas_0 = NonUnitaryOperation(target=0, classic=0)\n",
    "\n",
    "# reset all qubits\n",
    "reset = NonUnitaryOperation(targets=[0, 1], op_type=OpType.reset)\n",
    "\n",
    "qc.append(meas_0)\n",
    "qc.append(reset)\n",
    "\n",
    "print(qc.qasm3_str())"
   ]
  },
  {
   "cell_type": "markdown",
   "id": "cf4a1cb81f718da9",
   "metadata": {},
   "source": [
    "### `SymbolicOperation`\n",
    "\n",
    "A `SymbolicOperation` can represent all gates of a `StandardOperation` but the gate parameters can be symbolic. \n",
    "Symbolic expressions are represented in MQT using the `Expression` type, which represent linear combinations of symbolic `Term` objects over some set of `Variable` objects."
   ]
  },
  {
   "cell_type": "code",
   "execution_count": null,
   "id": "d12b5e3accda3ab3",
   "metadata": {},
   "outputs": [],
   "source": [
    "from mqt.core.operations import SymbolicOperation\n",
    "from mqt.core.symbolic import Expression, Term, Variable\n",
    "\n",
    "nqubits = 1\n",
    "\n",
    "x = Variable(\"x\")\n",
    "y = Variable(\"y\")\n",
    "sym = Expression([Term(x, 2), Term(y, 3)])\n",
    "print(sym)\n",
    "\n",
    "sym += 1\n",
    "print(sym)\n",
    "\n",
    "# Create symbolic gate\n",
    "u1_symb = SymbolicOperation(target=0, params=[sym], op_type=OpType.p)\n",
    "\n",
    "# Mixed symbolic and instantiated parameters\n",
    "u2_symb = SymbolicOperation(target=0, params=[sym, 2.0], op_type=OpType.u2)"
   ]
  },
  {
   "cell_type": "markdown",
   "id": "bd072a9d291c549a",
   "metadata": {},
   "source": [
    "### `CompoundOperation`\n",
    "\n",
    "A `CompoundOperation` bundles multiple `Operation` objects together. "
   ]
  },
  {
   "cell_type": "code",
   "execution_count": null,
   "id": "313ae19fe92f21de",
   "metadata": {},
   "outputs": [],
   "source": [
    "from mqt.core.operations import CompoundOperation\n",
    "\n",
    "nqubits = 2\n",
    "comp_op = CompoundOperation()\n",
    "\n",
    "# create bell pair circuit\n",
    "comp_op.append(StandardOperation(0, op_type=OpType.h))\n",
    "comp_op.append(StandardOperation(target=0, control=Control(1), op_type=OpType.x))\n",
    "\n",
    "qc = QuantumComputation(nqubits)\n",
    "qc.append(comp_op)\n",
    "\n",
    "print(qc)"
   ]
  },
  {
   "cell_type": "markdown",
   "id": "44029d5cbf2d477",
   "metadata": {},
   "source": [
    "Circuits can be conveniently turned into operations which allows to create nested circuits:"
   ]
  },
  {
   "cell_type": "code",
   "execution_count": null,
   "id": "cae64c6b7a4615b7",
   "metadata": {},
   "outputs": [],
   "source": [
    "from mqt.core import QuantumComputation\n",
    "\n",
    "nqubits = 2\n",
    "comp = QuantumComputation(nqubits)\n",
    "comp.h(0)\n",
    "comp.cx(0, 1)\n",
    "\n",
    "qc = QuantumComputation(nqubits)\n",
    "qc.append(comp.to_operation())\n",
    "\n",
    "print(qc)"
   ]
  },
  {
   "cell_type": "markdown",
   "id": "5487db4cfd4bc550",
   "metadata": {},
   "source": [
    "## Interfacing with other SDKs\n",
    "\n",
    "Since a `QuantumComputation` can be imported from and exported to an OpenQASM 3.0 (or OpenQASM 2.0) string, any library that can work with OpenQASM is easy to use in conjunction with the `QuantumComputation` class. \n",
    "\n",
    "In addition, `mqt-core` can import [Qiskit](https://qiskit.org/) [`QuantumCircuit`](https://qiskit.org/documentation/stubs/qiskit.circuit.QuantumCircuit.html) objects directly."
   ]
  },
  {
   "cell_type": "code",
   "execution_count": null,
   "id": "c733187f",
   "metadata": {},
   "outputs": [],
   "source": [
    "from qiskit import QuantumCircuit\n",
    "\n",
    "from mqt.core.plugins.qiskit import qiskit_to_mqt\n",
    "\n",
    "# GHZ circuit in qiskit\n",
    "qiskit_qc = QuantumCircuit(3)\n",
    "qiskit_qc.h(0)\n",
    "qiskit_qc.cx(0, 1)\n",
    "qiskit_qc.cx(0, 2)\n",
    "\n",
    "print(qiskit_qc.draw())\n",
    "\n",
    "mqt_qc = qiskit_to_mqt(qiskit_qc)\n",
    "print(mqt_qc)"
   ]
  }
 ],
 "metadata": {
  "kernelspec": {
   "display_name": "Python 3 (ipykernel)",
   "language": "python",
   "name": "python3"
  },
  "language_info": {
   "codemirror_mode": {
    "name": "ipython",
    "version": 3
   },
   "file_extension": ".py",
   "mimetype": "text/x-python",
   "name": "python",
   "nbconvert_exporter": "python",
   "pygments_lexer": "ipython3"
  }
 },
 "nbformat": 4,
 "nbformat_minor": 5
}
